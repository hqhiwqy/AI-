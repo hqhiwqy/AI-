{
 "cells": [
  {
   "cell_type": "markdown",
   "metadata": {},
   "source": [
    "# Python应用进阶测试\n",
    "## 中北奶茶馆\n",
    "\n",
    "这个项目中，我们将模拟一个中北奶茶馆的用户购买流程。流程共分为三个主要步骤：\n",
    "\n",
    "1. 商品选择\n",
    "2. 费用计算\n",
    "3. 购买行为记录\n",
    "\n",
    "我们一起来完成以下代码过程，实现这个奶茶馆的主要服务流程。\n",
    "\n",
    "> **提示**：这样的文字将会指导你如何使用 jupyter Notebook 来完成项目。"
   ]
  },
  {
   "cell_type": "markdown",
   "metadata": {},
   "source": [
    "### 商品选择\n",
    "\n",
    "代码开始部分使用字典变量定义了奶茶店所售奶茶，其中每个元素key为奶茶商品的编号，value为包含奶茶的名字以及价格的字典。\n",
    "\n",
    "完成以下shopping_produce函数，实现获取用户购买需求输入的功能：\n",
    "\n",
    "1. 输入购买的奶茶分类（分类编号用阿拉伯数字，有效值为1到5）。\n",
    "2. 输入要购买奶茶的数量。\n",
    "\n",
    "用户可以循环多次输入所需购买的奶茶类型以及数量。以输入大写的Q作为结束购买输入的标志。\n",
    "\n",
    "函数返回一个字典类型变量goods_dic，其中key为所购奶茶的编号，value为编号所对应的奶茶的购买数量。\n",
    "\n",
    "> **提示**：你可以通过单击代码区域，然后使用键盘快捷键 **Shift+Enter** 或 **Shift+Return** 来运行代码。或者在选择代码后使用**执行**（run cell）按钮执行代码。"
   ]
  },
  {
   "cell_type": "code",
   "execution_count": 5,
   "metadata": {},
   "outputs": [],
   "source": [
    "# 定义奶茶商品\n",
    "milktea_dict = {'1': {'name': '原味冰奶茶', 'price': 3},\n",
    "                '2': {'name': '香蕉冰奶茶', 'price': 5},\n",
    "                '3': {'name': '草莓冰奶茶', 'price': 5},\n",
    "                '4': {'name': '蒟蒻冰奶茶', 'price': 7},\n",
    "                '5': {'name': '珍珠冰奶茶', 'price': 7},\n",
    "               }\n",
    "\n",
    "def shopping_procedure():\n",
    "    '''获取用户的购买需求输入\n",
    "    \n",
    "    返回值：\n",
    "        字典类型goods_dic，key为所购奶茶的编号，value为编号所对应的奶茶的购买数量。\n",
    "    \n",
    "    '''\n",
    "    \n",
    "    # 定义返回字典变量\n",
    "    goods_dic = {}\n",
    "\n",
    "    while True:\n",
    "        # 获取用户所要购买的奶茶编号\n",
    "        milktea_no = input('请输入您要购买的奶茶编号，完成购物请选择Q：')\n",
    "        if milktea_no.upper() == 'Q':\n",
    "            break\n",
    "        # TODO\n",
    "        # 如果输入为‘Q’，退出购买流程\n",
    "        if milktea_no not in goods_dic.keys():\n",
    "        # TODO，修改if语句条件\n",
    "        # 如果输入的milktea_no编号在有效范围内\n",
    "            if int(milktea_no) >= 1 and int(milktea_no)<= 5: \n",
    "            # 提示用户输入购买数量\n",
    "                milktea_amount = input('请输入您要购买的数量：')\n",
    "                if not goods_dic.__contains__(milktea_no):\n",
    "                    goods_dic[milktea_no] = milktea_amount\n",
    "                    # TODO\n",
    "                    # 向goods_dic中加入新项，key为milktea_no，value为milktea_amount\n",
    "                \n",
    "            else:\n",
    "                goods_dic[milktea_no] += milktea_amount\n",
    "                # TODO\n",
    "                # 根据输入的milktea_no及milktea_amount，将相应的goods_dic项目元素做累加操作\n",
    "                \n",
    "        else:\n",
    "            print('我们只售卖以上五种奶茶哦！新口味敬请期待！')\n",
    "                \n",
    "        print('您还需要其它口味吗？')\n",
    "\n",
    "    return goods_dic\n"
   ]
  },
  {
   "cell_type": "markdown",
   "metadata": {},
   "source": [
    "### 费用计算\n",
    "\n",
    "用户完成奶茶选择之后，我们需要对用户订单详情进行总结并输出，同时完成订单费用的计算。\n",
    "\n",
    "定义如下receipt_print函数，完成该功能。"
   ]
  },
  {
   "cell_type": "code",
   "execution_count": 6,
   "metadata": {},
   "outputs": [],
   "source": [
    "def receipt_print(goods_dic):\n",
    "    '''打印订单详情并计算总金额\n",
    "    \n",
    "    参数：\n",
    "        goods_dic：字典类型，key为购买的奶茶类型编号，value为购买的数量\n",
    "    \n",
    "    返回值：\n",
    "        订单总金额。\n",
    "    \n",
    "    '''\n",
    "    print('点单完成！您的购买详情为：')\n",
    "\n",
    "    total_money = 0\n",
    "    for milktea_no, milktea_amount in goods_dic.items():\n",
    "        print('{}号奶茶:{}杯'.format(milktea_no, milktea_amount))\n",
    "        if milktea_no == \"1\":\n",
    "            milktea_price = 3\n",
    "        elif milktea_no == \"2\" or milktea_no == \"3\":\n",
    "            milktea_price = 5\n",
    "        elif milktea_no == \"4\" or milktea_no == \"5\":\n",
    "            milktea_price = 7\n",
    "        # TODO\n",
    "        # 将购买milktea_amount数量的milktea_no奶茶所需要的金额汇总到total_money变量\n",
    "        total_money += int(milktea_price) * int(milktea_amount)\n",
    "\n",
    "    print('您的总消费额为：{}元'.format(total_money))\n",
    "    \n",
    "    # 返回金额总数\n",
    "    return total_money"
   ]
  },
  {
   "cell_type": "markdown",
   "metadata": {},
   "source": [
    "### 购买行为记录\n",
    "\n",
    "奶茶店需要构建一份用户的购买记录，用列表作为这个记录的存储载体。每次购买行为结束之后，将本次购买行为作为一个记录项添加到购买记录列表中。\n",
    "\n",
    "购买行为记录信息包括：用户编号、所购买的奶茶编号、购买的数量。\n",
    "\n",
    "用以下shopping_log函数完成该功能，函数输入为本次购买的奶茶商品（字典类型）、用户编号、购买记录列表的对象引用。操作过程中需要生成购买行为的记录并加入整体购买记录列表对象中。"
   ]
  },
  {
   "cell_type": "code",
   "execution_count": 7,
   "metadata": {},
   "outputs": [],
   "source": [
    "def shopping_log(goods_dic,customer_no,total_consumer_record):\n",
    "    '''记录购买行为\n",
    "    \n",
    "    参数：\n",
    "        goods_dic：字典类型，key为购买的奶茶类型编号，value为购买的数量\n",
    "        customer_no：用户编号\n",
    "        total_consumer_record：总体购买记录，列表类型，其中每个元素为一次购买记录。\n",
    "                               元素为字典类型，字典由三个key-value对组成，分别记录某一个奶茶订单的信息：\n",
    "                               用户id（customer_no），奶茶编号（milktea_no）,购买数量（milktea_amount）。\n",
    "    \n",
    "    返回值：\n",
    "        总体购买记录列表。\n",
    "    \n",
    "    '''\n",
    "    for milktea_no, milktea_amount in goods_dic.items():\n",
    "        single_consumer_record = {}\n",
    "        single_consumer_record['customer_no'] = customer_no\n",
    "        single_consumer_record['milktea_no'] = milktea_no\n",
    "        single_consumer_record['milktea_amount'] = milktea_amount\n",
    "        total_consumer_record.append(single_consumer_record)\n",
    "        # TODO\n",
    "        # 将single_sonsumer_record项添加到total_consumer_record中\n",
    "        \n",
    "    return total_consumer_record"
   ]
  },
  {
   "cell_type": "markdown",
   "metadata": {},
   "source": [
    "### 程序主逻辑\n",
    "\n",
    "在程序主逻辑中，分别调用shopping_procedure以及receipt_print完成商品选择及费用计算功能。\n",
    "\n",
    "另外，在主逻辑循环当做，我们做如下假设：\n",
    "1. 每天（我们用主程序执行一次模拟一天的售卖情况），只为五个用户提供奶茶售卖服务（直接输入Q退出的用户不计算在内）。完成对第五个用户的服务之后，退出程序。\n",
    "2. 对于之前已经购买过奶茶的用户，视为vip用户，在其之后的购买中，在计算商品总价格时，给予9折优惠。使用一个字典vip_dic维护这些vip用户，其中每个元素，存储的是用户编号到手机号码的对应关系。"
   ]
  },
  {
   "cell_type": "code",
   "execution_count": null,
   "metadata": {
    "scrolled": true
   },
   "outputs": [
    {
     "name": "stdout",
     "output_type": "stream",
     "text": [
      "\n",
      "欢迎光临中北奶茶馆！本店售卖宇宙无敌奶茶，奶茶虽好，可不要贪杯哦！\n",
      " 1）原味冰奶茶 3元  2）香蕉冰奶茶 5元  3) 草莓冰奶茶 5元  4）蒟蒻冰奶茶 7元  5）珍珠冰奶茶 7元\n",
      "本店每日接待5位顾客，您是今天第1位幸运儿\n"
     ]
    }
   ],
   "source": [
    "total_consumer_record = []\n",
    "# vip会员记录\n",
    "vip_dic = {}\n",
    "\n",
    "i = 1\n",
    "while True:\n",
    "    print('\\n欢迎光临中北奶茶馆！本店售卖宇宙无敌奶茶，奶茶虽好，可不要贪杯哦！\\n 1）原味冰奶茶 3元  2）香蕉冰奶茶 5元 '\n",
    "          ' 3) 草莓冰奶茶 5元  4）蒟蒻冰奶茶 7元  5）珍珠冰奶茶 7元')\n",
    "    print('本店每日接待5位顾客，您是今天第{}位幸运儿'.format(i))\n",
    "\n",
    "    # 调用shopping_produre进行商品选择\n",
    "    goods_dic = shopping_procedure()\n",
    "    \n",
    "    # TODO\n",
    "    # 若此次没有做商品选择，跳过后续计算费用环节继续下个循环\n",
    "    \n",
    "\n",
    "    # 调用receipt_print计算费用总额\n",
    "    vip_no = input('请输入您的专属会员号(新会员直接设置会员号即可，激活手机号方可享受会员价）：')\n",
    "    total_money = receipt_print(goods_dic)\n",
    "    if vip_no in vip_dic.keys():\n",
    "        total_money *= 0.9\n",
    "        print('您可以享受会员价，折后总价：{}元'.format(total_money))\n",
    "    else:\n",
    "        vip_phone = input('请输入您的手机号激活会员：')\n",
    "        vip_dic[vip_no] = vip_phone\n",
    "    # TODO\n",
    "    # 如果vip_no在vip_dic中能够查到，将总价打9折，并显示'您可以享受会员价，折后总价：xx元'，其中xx为计算得到的折后价格。\n",
    "    # 否则，打印'请输入您的手机号激活会员：'提示用户输入电话号码。将非会员添加到会员表vip_dic中，\n",
    "    # 新添项的key是vip_no，value是用户输入的电话号码。\n",
    "    \n",
    "    \n",
    "    # 调用shopping_log记录用户购买动作\n",
    "    total_consumer_record = shopping_log(goods_dic, vip_no, total_consumer_record)\n",
    "\n",
    "    print(\"\\n********************************************************\")\n",
    "    print('\\t中北奶茶馆力争做一枚有态度、有思想的奶茶馆（傲娇脸）！\\n\\t祝您今日购物愉快！诚挚欢迎您再次光临！')\n",
    "    print(\"********************************************************\")\n",
    "\n",
    "    if i >= 5:\n",
    "        print('今日已闭店，欢迎您明天光临！')\n",
    "        break\n",
    "    # TODO\n",
    "    # 当购买次数大于等于5次时，打印'今日已闭店，欢迎您明天光临！'并退出购买循环\n",
    "    \n",
    "\n",
    "    i += 1\n",
    "\n",
    "# 打印今天的所有销售情况\n",
    "print('今日售卖情况:{}'.format(total_consumer_record))"
   ]
  },
  {
   "cell_type": "code",
   "execution_count": null,
   "metadata": {},
   "outputs": [],
   "source": [
    "    "
   ]
  },
  {
   "cell_type": "code",
   "execution_count": null,
   "metadata": {},
   "outputs": [],
   "source": []
  }
 ],
 "metadata": {
  "kernelspec": {
   "display_name": "Python 3",
   "language": "python",
   "name": "python3"
  },
  "language_info": {
   "codemirror_mode": {
    "name": "ipython",
    "version": 3
   },
   "file_extension": ".py",
   "mimetype": "text/x-python",
   "name": "python",
   "nbconvert_exporter": "python",
   "pygments_lexer": "ipython3",
   "version": "3.7.6"
  }
 },
 "nbformat": 4,
 "nbformat_minor": 1
}
